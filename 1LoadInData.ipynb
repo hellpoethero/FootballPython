{
 "cells": [
  {
   "cell_type": "code",
   "execution_count": 1,
   "metadata": {
    "collapsed": true,
    "pycharm": {
     "is_executing": false
    }
   },
   "outputs": [],
   "source": [
    "#Load in Statsbomb competition and match data\n",
    "#This is a library for loading json files.\n",
    "import json\n",
    "\n",
    "#Load the competition file\n",
    "#Got this by searching 'how do I open json in Python'\n",
    "with open('Statsbomb/data/competitions.json') as f:\n",
    "    competitions = json.load(f)\n",
    "    \n",
    "#Womens World Cup 2019 has competition ID 72\n",
    "competition_id=72\n",
    "\n",
    "#Load the list of matches for this competition\n",
    "with open('Statsbomb/data/matches/'+str(competition_id)+'/30.json') as f:\n",
    "    matches = json.load(f)"
   ]
  },
  {
   "cell_type": "code",
   "execution_count": 6,
   "outputs": [
    {
     "data": {
      "text/plain": "\"Australia Women's\""
     },
     "metadata": {},
     "output_type": "execute_result",
     "execution_count": 6
    }
   ],
   "source": [
    "#Look inside matches\n",
    "# print(matches[0])\n",
    "# matches[0]['home_team']\n",
    "# matches[0]['home_team']['home_team_name']\n",
    "matches[0]['away_team']['away_team_name']"
   ],
   "metadata": {
    "collapsed": false,
    "pycharm": {
     "name": "#%%\n",
     "is_executing": false
    }
   }
  },
  {
   "cell_type": "code",
   "execution_count": 5,
   "outputs": [
    {
     "name": "stdout",
     "text": [
      "The match between Norway Women's and Australia Women's finished 1 : 1\n",
      "The match between Australia Women's and Brazil Women's finished 3 : 2\n",
      "The match between South Africa Women's and Germany Women's finished 0 : 4\n",
      "The match between China PR Women's and Spain Women's finished 0 : 0\n",
      "The match between Scotland Women's and Argentina Women's finished 3 : 3\n",
      "The match between Spain Women's and United States Women's finished 1 : 2\n",
      "The match between Sweden Women's and Canada Women's finished 1 : 0\n",
      "The match between Spain Women's and South Africa Women's finished 3 : 1\n",
      "The match between Germany Women's and China PR Women's finished 1 : 0\n",
      "The match between Brazil Women's and Jamaica Women's finished 3 : 0\n",
      "The match between Australia Women's and Italy Women's finished 1 : 2\n",
      "The match between Argentina Women's and Japan Women's finished 0 : 0\n",
      "The match between Canada Women's and Cameroon Women's finished 1 : 0\n",
      "The match between Chile Women's and Sweden Women's finished 0 : 2\n",
      "The match between New Zealand Women's and Netherlands Women's finished 0 : 1\n",
      "The match between United States Women's and Thailand Women's finished 13 : 0\n",
      "The match between Nigeria Women's and Korea Republic Women's finished 2 : 0\n",
      "The match between Germany Women's and Spain Women's finished 1 : 0\n",
      "The match between France Women's and Norway Women's finished 2 : 1\n",
      "The match between South Africa Women's and China PR Women's finished 0 : 1\n",
      "The match between Japan Women's and Scotland Women's finished 2 : 1\n",
      "The match between United States Women's and Chile Women's finished 3 : 0\n",
      "The match between Sweden Women's and Thailand Women's finished 5 : 1\n",
      "The match between Nigeria Women's and France Women's finished 0 : 1\n",
      "The match between Korea Republic Women's and Norway Women's finished 1 : 2\n",
      "The match between Italy Women's and Brazil Women's finished 0 : 1\n",
      "The match between Jamaica Women's and Australia Women's finished 1 : 4\n",
      "The match between England Women's and Scotland Women's finished 2 : 1\n",
      "The match between Japan Women's and England Women's finished 0 : 2\n",
      "The match between Cameroon Women's and New Zealand Women's finished 2 : 1\n",
      "The match between Sweden Women's and United States Women's finished 0 : 2\n",
      "The match between Netherlands Women's and Canada Women's finished 2 : 1\n",
      "The match between Thailand Women's and Chile Women's finished 0 : 2\n",
      "The match between Germany Women's and Nigeria Women's finished 3 : 0\n",
      "The match between England Women's and Cameroon Women's finished 3 : 0\n",
      "The match between France Women's and Korea Republic Women's finished 4 : 0\n",
      "The match between Norway Women's and Nigeria Women's finished 3 : 0\n",
      "The match between England Women's and Argentina Women's finished 1 : 0\n",
      "The match between Jamaica Women's and Italy Women's finished 0 : 5\n",
      "The match between Netherlands Women's and Cameroon Women's finished 3 : 1\n",
      "The match between Canada Women's and New Zealand Women's finished 2 : 0\n",
      "The match between France Women's and Brazil Women's finished 2 : 1\n",
      "The match between Netherlands Women's and Japan Women's finished 2 : 1\n",
      "The match between Italy Women's and China PR Women's finished 2 : 0\n",
      "The match between Norway Women's and England Women's finished 0 : 3\n",
      "The match between France Women's and United States Women's finished 1 : 2\n",
      "The match between England Women's and United States Women's finished 1 : 2\n",
      "The match between Netherlands Women's and Sweden Women's finished 1 : 0\n",
      "The match between England Women's and Sweden Women's finished 1 : 2\n",
      "The match between Italy Women's and Netherlands Women's finished 0 : 2\n",
      "The match between United States Women's and Netherlands Women's finished 2 : 0\n",
      "The match between Germany Women's and Sweden Women's finished 1 : 2\n"
     ],
     "output_type": "stream"
    },
    {
     "traceback": [
      "\u001b[1;31m---------------------------------------------------------------------------\u001b[0m",
      "\u001b[1;31mNameError\u001b[0m                                 Traceback (most recent call last)",
      "\u001b[1;32m<ipython-input-5-e41023d436e9>\u001b[0m in \u001b[0;36m<module>\u001b[1;34m\u001b[0m\n\u001b[0;32m     19\u001b[0m     \u001b[1;32mif\u001b[0m \u001b[1;33m(\u001b[0m\u001b[0mhome_team_name\u001b[0m\u001b[1;33m==\u001b[0m\u001b[0mhome_team_required\u001b[0m\u001b[1;33m)\u001b[0m \u001b[1;32mand\u001b[0m \u001b[1;33m(\u001b[0m\u001b[0maway_team_name\u001b[0m\u001b[1;33m==\u001b[0m\u001b[0maway_team_required\u001b[0m\u001b[1;33m)\u001b[0m\u001b[1;33m:\u001b[0m\u001b[1;33m\u001b[0m\u001b[1;33m\u001b[0m\u001b[0m\n\u001b[0;32m     20\u001b[0m         \u001b[0mmatch_id_required\u001b[0m \u001b[1;33m=\u001b[0m \u001b[0mmatch\u001b[0m\u001b[1;33m[\u001b[0m\u001b[1;34m'match_id'\u001b[0m\u001b[1;33m]\u001b[0m\u001b[1;33m\u001b[0m\u001b[1;33m\u001b[0m\u001b[0m\n\u001b[1;32m---> 21\u001b[1;33m \u001b[0mprint\u001b[0m\u001b[1;33m(\u001b[0m\u001b[0mhome_team_required\u001b[0m \u001b[1;33m+\u001b[0m \u001b[1;34m' vs '\u001b[0m \u001b[1;33m+\u001b[0m \u001b[0maway_team_required\u001b[0m \u001b[1;33m+\u001b[0m \u001b[1;34m' has id:'\u001b[0m \u001b[1;33m+\u001b[0m \u001b[0mstr\u001b[0m\u001b[1;33m(\u001b[0m\u001b[0mmatch_id_required\u001b[0m\u001b[1;33m)\u001b[0m\u001b[1;33m)\u001b[0m\u001b[1;33m\u001b[0m\u001b[1;33m\u001b[0m\u001b[0m\n\u001b[0m\u001b[0;32m     22\u001b[0m \u001b[1;33m\u001b[0m\u001b[0m\n\u001b[0;32m     23\u001b[0m \u001b[1;31m#Exercise:\u001b[0m\u001b[1;33m\u001b[0m\u001b[1;33m\u001b[0m\u001b[1;33m\u001b[0m\u001b[0m\n",
      "\u001b[1;31mNameError\u001b[0m: name 'match_id_required' is not defined"
     ],
     "ename": "NameError",
     "evalue": "name 'match_id_required' is not defined",
     "output_type": "error"
    }
   ],
   "source": [
    "#Print all match results\n",
    "for match in matches:\n",
    "    home_team_name=match['home_team']['home_team_name']\n",
    "    away_team_name=match['away_team']['away_team_name']\n",
    "    home_score=match['home_score']\n",
    "    away_score=match['away_score']\n",
    "    describe_text = 'The match between ' + home_team_name + ' and ' + away_team_name\n",
    "    result_text = ' finished ' + str(home_score) +  ' : ' + str(away_score)\n",
    "    print(describe_text + result_text)\n",
    "\n",
    "#Now lets find a match we are interested in\n",
    "home_team_required =\"England\"\n",
    "away_team_required =\"Sweden\"\n",
    "\n",
    "#Find ID for the match\n",
    "for match in matches:\n",
    "    home_team_name=match['home_team']['home_team_name']\n",
    "    away_team_name=match['away_team']['away_team_name']\n",
    "    if (home_team_name==home_team_required) and (away_team_name==away_team_required):\n",
    "        match_id_required = match['match_id']\n",
    "print(home_team_required + ' vs ' + away_team_required + ' has id:' + str(match_id_required))\n",
    "        \n",
    "#Exercise: \n",
    "#1, Edit the code above to print out the result list for the Mens World cup \n",
    "#2, Edit the code above to find the ID for England vs. Sweden\n",
    "#3, Write new code to write out a list of just Sweden's results in the tournament.\n",
    "\n",
    "\n",
    "\n"
   ],
   "metadata": {
    "collapsed": false,
    "pycharm": {
     "name": "#%%\n",
     "is_executing": false
    }
   }
  }
 ],
 "metadata": {
  "kernelspec": {
   "display_name": "Python 3",
   "language": "python",
   "name": "python3"
  },
  "language_info": {
   "codemirror_mode": {
    "name": "ipython",
    "version": 2
   },
   "file_extension": ".py",
   "mimetype": "text/x-python",
   "name": "python",
   "nbconvert_exporter": "python",
   "pygments_lexer": "ipython2",
   "version": "2.7.6"
  },
  "pycharm": {
   "stem_cell": {
    "cell_type": "raw",
    "source": [],
    "metadata": {
     "collapsed": false
    }
   }
  }
 },
 "nbformat": 4,
 "nbformat_minor": 0
}