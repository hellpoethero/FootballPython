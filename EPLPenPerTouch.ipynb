{
 "cells": [
  {
   "cell_type": "code",
   "execution_count": 14,
   "metadata": {
    "collapsed": true,
    "pycharm": {
     "is_executing": false
    }
   },
   "outputs": [
    {
     "name": "stdout",
     "text": [
      "   Unnamed: 0_level_0 Unnamed: 1_level_0 Unnamed: 2_level_0 Touches          \\\n",
      "                Squad               # Pl               Poss Touches Def Pen   \n",
      "0             Arsenal                 29               54.1   21703    2579   \n",
      "1         Aston Villa                 28               44.4   17603    2447   \n",
      "2         Bournemouth                 27               44.8   18336    2467   \n",
      "3            Brighton                 25               53.4   21997    2554   \n",
      "4             Burnley                 22               40.7   16668    2130   \n",
      "5             Chelsea                 27               60.3   25800    2215   \n",
      "6      Crystal Palace                 25               44.2   18546    2263   \n",
      "7             Everton                 23               48.6   18766    2221   \n",
      "8      Leicester City                 22               57.6   23117    2152   \n",
      "9           Liverpool                 24               63.1   26132    1977   \n",
      "10    Manchester City                 24               66.1   28014    1974   \n",
      "11     Manchester Utd                 28               56.3   22139    1999   \n",
      "12      Newcastle Utd                 27               38.1   16738    2290   \n",
      "13       Norwich City                 28               50.6   21035    2859   \n",
      "14      Sheffield Utd                 26               43.8   18857    2069   \n",
      "15        Southampton                 24               47.7   18559    1940   \n",
      "16          Tottenham                 29               53.4   21529    2319   \n",
      "17            Watford                 26               42.2   17940    2038   \n",
      "18           West Ham                 28               43.5   18590    2042   \n",
      "19             Wolves                 20               48.1   20006    1922   \n",
      "\n",
      "                                           ... Dribbles      Carries          \\\n",
      "   Def 3rd Mid 3rd Att 3rd Att Pen   Live  ...      #Pl Megs Carries TotDist   \n",
      "0     7620   10304    5220     859  20066  ...      404   32   14694   87157   \n",
      "1     6556    7459    4745     701  15937  ...      370   25   10315   66926   \n",
      "2     6999    7788    4608     691  16780  ...      343   23   10979   66332   \n",
      "3     7962    9713    5701     817  20412  ...      349   20   14435   84532   \n",
      "4     5389    7834    4235     565  15041  ...      279   17    8772   49510   \n",
      "5     7794   12542    7093    1093  24186  ...      463   10   18095  100484   \n",
      "6     6640    8420    4547     813  16818  ...      427   22   11005   64858   \n",
      "7     6327    8514    5015     795  17125  ...      382   28   11212   67898   \n",
      "8     7294   11126    6055     903  21480  ...      410   20   15143   84449   \n",
      "9     6804   13428    7470    1175  24494  ...      427   25   17792   92681   \n",
      "10    6501   14545    8911    1439  26612  ...      495   17   20280  113879   \n",
      "11    6439   10839    6363     853  20551  ...      450   35   15118   91596   \n",
      "12    6801    6952    3896     545  15196  ...      418   17    9623   57504   \n",
      "13    8304    9164    4892     705  19430  ...      451   32   13329   79300   \n",
      "14    5735    8144    5909     758  17262  ...      357   19   10984   59311   \n",
      "15    5619    8819    5111     729  16875  ...      420   17   10254   60907   \n",
      "16    6962   10442    5430     738  19963  ...      459   30   13935   79603   \n",
      "17    5773    8184    4895     755  16363  ...      344   14   10455   57752   \n",
      "18    5753    8923    4993     758  16974  ...      391   18   11229   68195   \n",
      "19    6594    9656    4926     778  18450  ...      503   29   12702   74843   \n",
      "\n",
      "           Receiving              Unnamed: 21_level_0 Unnamed: 22_level_0  \n",
      "   PrgDist      Targ    Rec  Rec%              Miscon              Dispos  \n",
      "0    49411     16927  14656  86.6                 412                 413  \n",
      "1    35332     12514  10250  81.9                 371                 379  \n",
      "2    35022     13097  10774  82.3                 451                 374  \n",
      "3    43868     17044  14472  84.9                 431                 453  \n",
      "4    23904     11371   8730  76.8                 362                 328  \n",
      "5    54872     20807  18173  87.3                 427                 429  \n",
      "6    34217     13129  10721  81.7                 460                 491  \n",
      "7    35867     13736  11203  81.6                 430                 419  \n",
      "8    46135     17887  15467  86.5                 418                 442  \n",
      "9    50837     21386  18497  86.5                 420                 386  \n",
      "10   67824     23717  21475  90.5                 299                 366  \n",
      "11   52796     17271  15013  86.9                 385                 411  \n",
      "12   30904     11653   9311  79.9                 414                 369  \n",
      "13   43292     15787  13361  84.6                 423                 429  \n",
      "14   30001     13733  10980  80.0                 375                 336  \n",
      "15   32282     12784  10168  79.5                 469                 372  \n",
      "16   43374     16523  13997  84.7                 354                 418  \n",
      "17   31296     12642  10049  79.5                 394                 363  \n",
      "18   35503     13662  10987  80.4                 368                 371  \n",
      "19   43930     14943  12553  84.0                 405                 397  \n",
      "\n",
      "[20 rows x 23 columns]\n"
     ],
     "output_type": "stream"
    }
   ],
   "source": [
    "import pandas as pd\n",
    "\n",
    "possessions = pd.read_csv(\"fbref/EPLPossession1920.csv\",header=[0,1])\n",
    "shoots = pd.read_csv(\"fbref/EPLShooting1920.csv\",header=[0,1])\n",
    "print(possessions)"
   ]
  },
  {
   "cell_type": "code",
   "execution_count": 16,
   "outputs": [
    {
     "name": "stdout",
     "text": [
      "Index(['Squad', '# Pl', 'Poss', 'Touches Touches', 'Touches Def Pen',\n",
      "       'Touches Def 3rd', 'Touches Mid 3rd', 'Touches Att 3rd',\n",
      "       'Touches Att Pen', 'Touches Live', 'Dribbles Succ', 'Dribbles Att',\n",
      "       'Dribbles Succ%', 'Dribbles #Pl', 'Dribbles Megs', 'Carries Carries',\n",
      "       'Carries TotDist', 'Carries PrgDist', 'Receiving Targ', 'Receiving Rec',\n",
      "       'Receiving Rec%', 'Miscon', 'Dispos'],\n",
      "      dtype='object')\n"
     ],
     "output_type": "stream"
    }
   ],
   "source": [
    "new_cols = []\n",
    "\n",
    "for col in possessions.columns:\n",
    "    if \"Unnamed:\" in col[0]:\n",
    "        new_cols.append(col[1])\n",
    "    else:\n",
    "        new_cols.append(col[0] + \" \" + col[1])\n",
    "possessions.columns = new_cols\n",
    "print(possessions.columns)"
   ],
   "metadata": {
    "collapsed": false,
    "pycharm": {
     "name": "#%%\n",
     "is_executing": false
    }
   }
  },
  {
   "cell_type": "code",
   "execution_count": 24,
   "outputs": [],
   "source": [
    "# print(shoots.columns)\n",
    "a = possessions[\"Touches Att Pen\"] / shoots[\"Standard PKatt\"]\n",
    "shoots[\"TouchPerPen\"] = a\n",
    "shoots[\"PenTouch\"] = possessions[\"Touches Att Pen\"]"
   ],
   "metadata": {
    "collapsed": false,
    "pycharm": {
     "name": "#%%\n",
     "is_executing": false
    }
   }
  },
  {
   "cell_type": "code",
   "execution_count": 27,
   "outputs": [
    {
     "name": "stdout",
     "text": [
      "              Squad  TouchPerPen  Standard PKatt  PenTouch\n",
      "0           Arsenal   429.500000               2       859\n",
      "1       Aston Villa   233.666667               3       701\n",
      "2       Bournemouth   345.500000               2       691\n",
      "3          Brighton   408.500000               2       817\n",
      "4           Burnley   282.500000               2       565\n",
      "5           Chelsea   156.142857               7      1093\n",
      "6    Crystal Palace   271.000000               3       813\n",
      "7           Everton   795.000000               1       795\n",
      "8    Leicester City   129.000000               7       903\n",
      "9         Liverpool   235.000000               5      1175\n",
      "10  Manchester City   143.900000              10      1439\n",
      "11   Manchester Utd    65.615385              13       853\n",
      "12    Newcastle Utd   545.000000               1       545\n",
      "13     Norwich City   352.500000               2       705\n",
      "14    Sheffield Utd   758.000000               1       758\n",
      "15      Southampton   243.000000               3       729\n",
      "16        Tottenham   184.500000               4       738\n",
      "17          Watford   151.000000               5       755\n",
      "18         West Ham   252.666667               3       758\n",
      "19           Wolves   259.333333               3       778\n",
      "312.06624542124547\n",
      "208.48101265822785\n"
     ],
     "output_type": "stream"
    }
   ],
   "source": [
    "print(shoots[[\"Squad\",\"TouchPerPen\",\"Standard PKatt\",\"PenTouch\"]])\n",
    "print(shoots[\"TouchPerPen\"].mean())\n",
    "print(shoots[\"PenTouch\"].sum() / shoots[\"Standard PKatt\"].sum())"
   ],
   "metadata": {
    "collapsed": false,
    "pycharm": {
     "name": "#%%\n",
     "is_executing": false
    }
   }
  }
 ],
 "metadata": {
  "kernelspec": {
   "display_name": "Python 3",
   "language": "python",
   "name": "python3"
  },
  "language_info": {
   "codemirror_mode": {
    "name": "ipython",
    "version": 2
   },
   "file_extension": ".py",
   "mimetype": "text/x-python",
   "name": "python",
   "nbconvert_exporter": "python",
   "pygments_lexer": "ipython2",
   "version": "2.7.6"
  },
  "pycharm": {
   "stem_cell": {
    "cell_type": "raw",
    "source": [],
    "metadata": {
     "collapsed": false
    }
   }
  }
 },
 "nbformat": 4,
 "nbformat_minor": 0
}