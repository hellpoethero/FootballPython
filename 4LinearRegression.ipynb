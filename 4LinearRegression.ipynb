{
 "cells": [
  {
   "cell_type": "code",
   "execution_count": 1,
   "metadata": {
    "collapsed": true,
    "pycharm": {
     "is_executing": false
    }
   },
   "outputs": [
    {
     "name": "stdout",
     "text": [
      "                                 OLS Regression Results                                \n",
      "=======================================================================================\n",
      "Dep. Variable:           goals_scored   R-squared (uncentered):                   0.969\n",
      "Model:                            OLS   Adj. R-squared (uncentered):              0.963\n",
      "Method:                 Least Squares   F-statistic:                              156.1\n",
      "Date:                Tue, 07 Jul 2020   Prob (F-statistic):                    5.83e-05\n",
      "Time:                        13:03:02   Log-Likelihood:                         -7.2998\n",
      "No. Observations:                   6   AIC:                                      16.60\n",
      "Df Residuals:                       5   BIC:                                      16.39\n",
      "Df Model:                           1                                                  \n",
      "Covariance Type:            nonrobust                                                  \n",
      "==================================================================================\n",
      "                     coef    std err          t      P>|t|      [0.025      0.975]\n",
      "----------------------------------------------------------------------------------\n",
      "minutes_played     0.0103      0.001     12.495      0.000       0.008       0.012\n",
      "==============================================================================\n",
      "Omnibus:                          nan   Durbin-Watson:                   1.148\n",
      "Prob(Omnibus):                    nan   Jarque-Bera (JB):                0.840\n",
      "Skew:                           0.586   Prob(JB):                        0.657\n",
      "Kurtosis:                       1.590   Cond. No.                         1.00\n",
      "==============================================================================\n",
      "\n",
      "Warnings:\n",
      "[1] Standard Errors assume that the covariance matrix of the errors is correctly specified.\n"
     ],
     "output_type": "stream"
    },
    {
     "name": "stderr",
     "text": [
      "C:\\Users\\ducnm\\Anaconda3\\envs\\tf_gpu\\lib\\site-packages\\statsmodels\\stats\\stattools.py:71: ValueWarning: omni_normtest is not valid with less than 8 observations; 6 samples were given.\n",
      "  \"samples were given.\" % int(n), ValueWarning)\n"
     ],
     "output_type": "stream"
    },
    {
     "data": {
      "text/plain": "<Figure size 432x288 with 1 Axes>",
      "image/png": "[encoded data removed]"
     },
     "metadata": {
      "needs_background": "light"
     },
     "output_type": "display_data"
    }
   ],
   "source": [
    "import pandas as pd\n",
    "import numpy as np\n",
    "import matplotlib.pyplot as plt\n",
    "import statsmodels.api as sm\n",
    "import statsmodels.formula.api as smf\n",
    "\n",
    "#Some made up data\n",
    "minutes_played=np.array([120,452,185,708,340,561])\n",
    "goals_scored=np.array([1,6,3,7,3,5])\n",
    "\n",
    "#Set up dataframe\n",
    "minutes_model = pd.DataFrame()\n",
    "minutes_model = minutes_model.assign(minutes=minutes_played)\n",
    "minutes_model = minutes_model.assign(goals=goals_scored)\n",
    "\n",
    "fig,ax=plt.subplots(num=1)\n",
    "ax.plot(minutes_played, goals_scored, linestyle='none', marker= '.', markerSize= 12, color='black')\n",
    "ax.set_ylabel('Goals scored')\n",
    "ax.set_xlabel('Minutes played')\n",
    "ax.spines['top'].set_visible(False)\n",
    "ax.spines['right'].set_visible(False)\n",
    "plt.xlim((0,750))\n",
    "plt.ylim((0,8))\n",
    "\n",
    "#Slope of one goal per 90 played\n",
    "#b=1/90\n",
    "#Intercept\n",
    "a=0\n",
    "\n",
    "\n",
    "#Slope determined by linear regression\n",
    "model_fit=smf.ols(formula='goals_scored ~ minutes_played -1 ', data=minutes_model).fit()\n",
    "print(model_fit.summary())        \n",
    "[b]=model_fit.params\n",
    "\n",
    "x=np.arange(800,step=0.1)\n",
    "y= a + b*x \n",
    "\n",
    "ax.plot(minutes_played, goals_scored, linestyle='none', marker= '.', markerSize= 12, color='black')\n",
    "ax.plot(x, y, color='black')\n",
    "\n",
    "#Show distances to line\n",
    "for i,mp in enumerate(minutes_played):\n",
    "    ax.plot([mp,mp],[goals_scored[i],a+b*mp], color='red')\n",
    "\n",
    "\n",
    "plt.show()\n",
    "# fig.savefig('Output/LinearRelationship' + str(round(1/b)) + '.pdf', dpi=None, bbox_inches=\"tight\")   \n",
    "\n",
    "\n"
   ]
  }
 ],
 "metadata": {
  "kernelspec": {
   "display_name": "Python 3",
   "language": "python",
   "name": "python3"
  },
  "language_info": {
   "codemirror_mode": {
    "name": "ipython",
    "version": 2
   },
   "file_extension": ".py",
   "mimetype": "text/x-python",
   "name": "python",
   "nbconvert_exporter": "python",
   "pygments_lexer": "ipython2",
   "version": "2.7.6"
  },
  "pycharm": {
   "stem_cell": {
    "cell_type": "raw",
    "source": [],
    "metadata": {
     "collapsed": false
    }
   }
  }
 },
 "nbformat": 4,
 "nbformat_minor": 0
}