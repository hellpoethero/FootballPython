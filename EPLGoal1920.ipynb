{
 "cells": [
  {
   "cell_type": "code",
   "execution_count": 26,
   "metadata": {
    "collapsed": true,
    "pycharm": {
     "is_executing": false
    }
   },
   "outputs": [
    {
     "name": "stdout",
     "text": [
      "    Unnamed: 0_level_0                         Unnamed: 1_level_0  \\\n",
      "                    Rk                                     Player   \n",
      "0                    1    Patrick van Aanholt\\Patrick-van-Aanholt   \n",
      "1                    2                      Max Aarons\\Max-Aarons   \n",
      "2                    3                Tammy Abraham\\Tammy-Abraham   \n",
      "3                    4                        Che Adams\\Che-Adams   \n",
      "4                    5                              Adrián\\Adrian   \n",
      "..                 ...                                        ...   \n",
      "507                508                Wilfried Zaha\\Wilfried-Zaha   \n",
      "508                509  Christoph Zimmermann\\Christoph-Zimmermann   \n",
      "509                510    Oleksandr Zinchenko\\Oleksandr-Zinchenko   \n",
      "510                511        Richairo Živković\\Richairo-Zivkovic   \n",
      "511                512                      Kurt Zouma\\Kurt-Zouma   \n",
      "\n",
      "    Unnamed: 2_level_0 Unnamed: 3_level_0 Unnamed: 4_level_0  \\\n",
      "                Nation                Pos              Squad   \n",
      "0               nl NED                 DF     Crystal Palace   \n",
      "1              eng ENG                 DF       Norwich City   \n",
      "2              eng ENG                 FW            Chelsea   \n",
      "3              eng ENG                 FW        Southampton   \n",
      "4               es ESP                 GK          Liverpool   \n",
      "..                 ...                ...                ...   \n",
      "507             ci CIV               MFFW     Crystal Palace   \n",
      "508             de GER                 DF       Norwich City   \n",
      "509             ua UKR                 DF    Manchester City   \n",
      "510             nl NED                 FW      Sheffield Utd   \n",
      "511             fr FRA                 DF            Chelsea   \n",
      "\n",
      "    Unnamed: 5_level_0 Unnamed: 6_level_0 Unnamed: 7_level_0 Standard     ...  \\\n",
      "                   Age               Born                90s      Gls PK  ...   \n",
      "0                   28               1990               25.9        3  1  ...   \n",
      "1                   19               2000               32.0        0  0  ...   \n",
      "2                   21               1997               23.1       14  0  ...   \n",
      "3                   23               1996                9.2        1  0  ...   \n",
      "4                   32               1987                9.7        0  0  ...   \n",
      "..                 ...                ...                ...      ... ..  ...   \n",
      "507                 26               1992               32.4        4  0  ...   \n",
      "508                 26               1993               14.4        0  0  ...   \n",
      "509                 22               1996               13.4        0  0  ...   \n",
      "510                 22               1996                0.7        0  0  ...   \n",
      "511                 24               1994               22.0        0  0  ...   \n",
      "\n",
      "                             Expected                             \\\n",
      "    Sh/90 SoT/90  G/Sh G/SoT       xG  npxG npxG/Sh G-xG np:G-xG   \n",
      "0    0.89   0.15  0.09  0.50      1.9   1.2    0.05  1.1     0.8   \n",
      "1    0.44   0.12  0.00  0.00      0.5   0.5    0.04 -0.5    -0.5   \n",
      "2    3.47   1.39  0.18  0.44     14.0  14.0    0.18  0.0     0.0   \n",
      "3    2.51   0.44  0.04  0.25      2.4   2.4    0.10 -1.4    -1.4   \n",
      "4    0.00   0.00   NaN   NaN      0.0   0.0     NaN  0.0     0.0   \n",
      "..    ...    ...   ...   ...      ...   ...     ...  ...     ...   \n",
      "507  1.57   0.37  0.08  0.33      4.6   4.6    0.09 -0.6    -0.6   \n",
      "508  0.42   0.07  0.00  0.00      0.4   0.4    0.07 -0.4    -0.4   \n",
      "509  1.19   0.22  0.00  0.00      0.4   0.4    0.03 -0.4    -0.4   \n",
      "510  1.41   0.00  0.00   NaN      0.0   0.0    0.00  0.0     0.0   \n",
      "511  0.64   0.23  0.00  0.00      0.8   0.8    0.06 -0.8    -0.8   \n",
      "\n",
      "    Unnamed: 24_level_0  \n",
      "                Matches  \n",
      "0               Matches  \n",
      "1               Matches  \n",
      "2               Matches  \n",
      "3               Matches  \n",
      "4               Matches  \n",
      "..                  ...  \n",
      "507             Matches  \n",
      "508             Matches  \n",
      "509             Matches  \n",
      "510             Matches  \n",
      "511             Matches  \n",
      "\n",
      "[512 rows x 25 columns]\n"
     ],
     "output_type": "stream"
    }
   ],
   "source": [
    "import pandas as pd\n",
    "\n",
    "goals = pd.read_csv(\"fbref/EPLGoal1920.csv\",header=[0,1])\n",
    "print(goals)\n",
    "new_cols = []\n",
    "for col in goals.columns:\n",
    "    new_cols.append(col[1])\n",
    "goals.columns = new_cols"
   ]
  },
  {
   "cell_type": "code",
   "execution_count": 27,
   "outputs": [
    {
     "name": "stdout",
     "text": [
      "['Rk', 'Player', 'Nation', 'Pos', 'Squad', 'Age', 'Born', '90s', 'Gls', 'PK', 'PKatt', 'Sh', 'SoT', 'FK', 'SoT%', 'Sh/90', 'SoT/90', 'G/Sh', 'G/SoT', 'xG', 'npxG', 'npxG/Sh', 'G-xG', 'np:G-xG', 'Matches']\n"
     ],
     "output_type": "stream"
    }
   ],
   "source": [
    "print(new_cols)"
   ],
   "metadata": {
    "collapsed": false,
    "pycharm": {
     "name": "#%%\n",
     "is_executing": false
    }
   }
  },
  {
   "cell_type": "code",
   "execution_count": 58,
   "outputs": [
    {
     "name": "stdout",
     "text": [
      "                                                Player  npxG/Sh   npxGcon\n",
      "471                            Jamie Vardy\\Jamie-Vardy     0.20  1.363636\n",
      "25   Pierre-Emerick Aubameyang\\Pierre-Emerick-Aubam...     0.17  1.386861\n",
      "401                        Mohamed Salah\\Mohamed-Salah     0.12  1.029412\n",
      "204                              Danny Ings\\Danny-Ings     0.17  1.428571\n",
      "275                              Sadio Mané\\Sadio-Mane     0.20  1.311475\n",
      "..                                                 ...      ...       ...\n",
      "324                          Glenn Murray\\Glenn-Murray     0.15  0.476190\n",
      "323                        João Moutinho\\Joao-Moutinho     0.04  1.250000\n",
      "118                            Josip Drmić\\Josip-Drmic     0.25  0.357143\n",
      "121                            Shane Duffy\\Shane-Duffy     0.27  0.625000\n",
      "355                    Andreas Pereira\\Andreas-Pereira     0.06  0.434783\n",
      "\n",
      "[250 rows x 3 columns]\n"
     ],
     "output_type": "stream"
    },
    {
     "name": "stderr",
     "text": [
      "C:\\Users\\ducnm\\Anaconda3\\envs\\tf_gpu\\lib\\site-packages\\ipykernel_launcher.py:2: UserWarning: Boolean Series key will be reindexed to match DataFrame index.\n",
      "  \n"
     ],
     "output_type": "stream"
    }
   ],
   "source": [
    "goals[\"npxGcon\"] = (goals[\"np:G-xG\"]+goals[\"npxG\"]) / goals[\"npxG\"]\n",
    "new_goals = goals.dropna()[(goals[\"Gls\"]>=1) & (goals[\"npxG\"]>0) & (goals[\"Sh\"]>=0)]\n",
    "print(new_goals.sort_values(by=[\"Gls\"],ascending=False)[[\"Player\",\"npxG/Sh\",\"npxGcon\"]])"
   ],
   "metadata": {
    "collapsed": false,
    "pycharm": {
     "name": "#%%\n",
     "is_executing": false
    }
   }
  },
  {
   "cell_type": "code",
   "execution_count": 85,
   "outputs": [
    {
     "data": {
      "text/plain": "<Figure size 432x288 with 1 Axes>",
      "image/png": "[encoded data removed]"
     },
     "metadata": {},
     "output_type": "display_data"
    }
   ],
   "source": [
    "import matplotlib.pyplot as plt\n",
    "import numpy as np\n",
    "\n",
    "\n",
    "npxGpSh = new_goals[\"npxG/Sh\"].values\n",
    "npxGcon = new_goals[\"npxGcon\"].values\n",
    "numSh = new_goals[\"Sh\"].values\n",
    "npxG = new_goals[\"npxG\"]\n",
    "npG = (new_goals[\"np:G-xG\"]+new_goals[\"npxG\"]).values\n",
    "# print(npxGpSh.max())\n",
    "# print(npxGcon.max())\n",
    "\n",
    "fig=plt.figure()\n",
    "fig.set_facecolor(\"white\")\n",
    "ax=fig.add_axes([0,0,1,1])\n",
    "ax.set_yticks(np.arange(0,20,2))\n",
    "ax.scatter(npxG, npG, color='b')\n",
    "ax.set_xlabel('xG')\n",
    "ax.set_ylabel('Goal')\n",
    "ax.set_title('xG Conversion by Number of Shots')\n",
    "plt.grid(True)\n",
    "z = np.polyfit(npxG, npG, 1)\n",
    "p = np.poly1d(z)\n",
    "plt.plot(npxG,p(npxG),\"r-\")\n",
    "plt.show()"
   ],
   "metadata": {
    "collapsed": false,
    "pycharm": {
     "name": "#%%\n",
     "is_executing": false
    }
   }
  }
 ],
 "metadata": {
  "kernelspec": {
   "display_name": "Python 3",
   "language": "python",
   "name": "python3"
  },
  "language_info": {
   "codemirror_mode": {
    "name": "ipython",
    "version": 2
   },
   "file_extension": ".py",
   "mimetype": "text/x-python",
   "name": "python",
   "nbconvert_exporter": "python",
   "pygments_lexer": "ipython2",
   "version": "2.7.6"
  },
  "pycharm": {
   "stem_cell": {
    "cell_type": "raw",
    "source": [],
    "metadata": {
     "collapsed": false
    }
   }
  }
 },
 "nbformat": 4,
 "nbformat_minor": 0
}