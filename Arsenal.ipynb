{
 "cells": [
  {
   "cell_type": "code",
   "execution_count": 14,
   "metadata": {
    "collapsed": true,
    "pycharm": {
     "is_executing": false
    }
   },
   "outputs": [],
   "source": [
    "import ReadFBRefData\n",
    "import pandas as pd\n",
    "\n",
    "sca18 = ReadFBRefData.read_csv(\"fbref/EPLSquadSca1819.csv\")\n",
    "sca19 = ReadFBRefData.read_csv(\"fbref/EPLSquadSca1920.csv\")\n",
    "\n",
    "shot18 = ReadFBRefData.read_csv(\"fbref/EPLSquadShooting1819.csv\")\n",
    "shot19 = ReadFBRefData.read_csv(\"fbref/EPLSquadShooting1920.csv\")\n",
    "shot18[\"Season\"]=18\n",
    "shot19[\"Season\"]=19"
   ]
  },
  {
   "cell_type": "code",
   "execution_count": 31,
   "outputs": [
    {
     "name": "stdout",
     "text": [
      "     Squad  # Pl  Standard Gls  Standard PK  Standard PKatt  Standard Sh  \\\n",
      "0  Arsenal    28            69            4               5          464   \n",
      "0  Arsenal    29            53            2               2          390   \n",
      "\n",
      "   Standard SoT  Standard FK  Standard SoT%  Standard Sh/90  Standard SoT/90  \\\n",
      "0           158           11           34.1           12.21             4.16   \n",
      "0           140           19           35.9           10.54             3.78   \n",
      "\n",
      "   Standard G/Sh  Standard G/SoT  Expected xG  Expected npxG  \\\n",
      "0           0.14            0.41         56.5           52.6   \n",
      "0           0.13            0.36         47.7           46.2   \n",
      "\n",
      "   Expected npxG/Sh  Expected G-xG  Expected np:G-xG  Season  \n",
      "0              0.12           12.5              12.4      18  \n",
      "0              0.12            5.3               4.8      19  \n"
     ],
     "output_type": "stream"
    }
   ],
   "source": [
    "columns = [\"Squad\",\"Season\",\"Expected npxG\",\"Expected npxG/Sh\"]\n",
    "\n",
    "def get_stat(df_list, squad):\n",
    "    df = pd.concat(df_list)\n",
    "    df = df[df[\"Squad\"]==squad]\n",
    "    return df\n",
    "    \n",
    "arsenalShot = get_stat([shot18,shot19],\"Arsenal\")\n",
    "print(arsenalShot)"
   ],
   "metadata": {
    "collapsed": false,
    "pycharm": {
     "name": "#%%\n",
     "is_executing": false
    }
   }
  },
  {
   "cell_type": "code",
   "execution_count": 29,
   "outputs": [
    {
     "name": "stdout",
     "text": [
      "     Squad  # Pl  Total Cmp  Total Att  Total Cmp%  Total TotDist  \\\n",
      "0  Arsenal    28      18309      22238        82.3         350027   \n",
      "0  Arsenal    29      15971      19342        82.6         313410   \n",
      "\n",
      "   Total PrgDist  Ast    xA  A-xA   KP   1/3  PPA  CrsPA  Prog  Season  \n",
      "0         109920   52  42.8   9.2  357  1277  434     71  1839      18  \n",
      "0          92322   33  29.0   4.0  276  1094  311     68  1451      19  \n",
      "0    0.314033\n",
      "0    0.294573\n",
      "dtype: float64\n",
      "0    0.100442\n",
      "0    0.090852\n",
      "dtype: float64\n",
      "0    0.104645\n",
      "0    0.093851\n",
      "dtype: float64\n"
     ],
     "output_type": "stream"
    }
   ],
   "source": [
    "pass18 = ReadFBRefData.read_csv(\"fbref/EPLSquadPass1819.csv\")\n",
    "pass19 = ReadFBRefData.read_csv(\"fbref/EPLSquadPass1920.csv\")\n",
    "pass18[\"Season\"]=18\n",
    "pass19[\"Season\"]=19\n",
    "arsenalPass = get_stat([pass18,pass19],\"Arsenal\")\n",
    "columns = []\n",
    "for col in arsenalPass.columns:\n",
    "    if (\"Short\" in col) or (\"Long\" in col) or (\"Medium\" in col):\n",
    "        pass\n",
    "    else:\n",
    "        columns.append(col)\n",
    "print(arsenalPass[columns])\n",
    "print(arsenalPass[\"Total PrgDist\"] / arsenalPass[\"Total TotDist\"])\n",
    "print(arsenalPass[\"Prog\"] / arsenalPass[\"Total Cmp\"])\n",
    "print(arsenalPass[\"xA\"] / (arsenalPass[\"Ast\"] + arsenalPass[\"KP\"]))"
   ],
   "metadata": {
    "collapsed": false,
    "pycharm": {
     "name": "#%%\n",
     "is_executing": false
    }
   }
  },
  {
   "cell_type": "code",
   "execution_count": 32,
   "outputs": [
    {
     "name": "stdout",
     "text": [
      "     Squad  # Pl  SCA SCA  SCA SCA90  SCA Types PassLive  SCA Types PassDead  \\\n",
      "0  Arsenal    28      758      19.95                 609                  46   \n",
      "0  Arsenal    29      593      16.03                 422                  54   \n",
      "\n",
      "   SCA Types Drib  SCA Types Sh  SCA Types Fld  GCA GCA  GCA GCA90  \\\n",
      "0              47            31             22      121       3.18   \n",
      "0              47            36             34       72       1.95   \n",
      "\n",
      "   GCA Types PassLive  GCA Types PassDead  GCA Types Drib  GCA Types Sh  \\\n",
      "0                  95                   6               5             5   \n",
      "0                  53                   3               4             9   \n",
      "\n",
      "   GCA Types Fld  GCA Types OG  Season  \n",
      "0              7             3      18  \n",
      "0              3             0      19  \n"
     ],
     "output_type": "stream"
    }
   ],
   "source": [
    "sca18 = ReadFBRefData.read_csv(\"fbref/EPLSquadSca1819.csv\")\n",
    "sca19 = ReadFBRefData.read_csv(\"fbref/EPLSquadSca1920.csv\")\n",
    "sca18[\"Season\"]=18\n",
    "sca19[\"Season\"]=19\n",
    "arsenalSca = get_stat([sca18,sca19],\"Arsenal\")\n",
    "# columns = []\n",
    "# for col in arsenalPass.columns:\n",
    "#     if (\"Short\" in col) or (\"Long\" in col) or (\"Medium\" in col):\n",
    "#         pass\n",
    "#     else:\n",
    "#         columns.append(col)\n",
    "print(arsenalSca)\n",
    "# print(arsenalPass[\"Total PrgDist\"] / arsenalPass[\"Total TotDist\"])\n",
    "# print(arsenalPass[\"Prog\"] / arsenalPass[\"Total Cmp\"])\n",
    "# print(arsenalPass[\"xA\"] / (arsenalPass[\"Ast\"] + arsenalPass[\"KP\"]))"
   ],
   "metadata": {
    "collapsed": false,
    "pycharm": {
     "name": "#%%\n",
     "is_executing": false
    }
   }
  }
 ],
 "metadata": {
  "kernelspec": {
   "display_name": "Python 3",
   "language": "python",
   "name": "python3"
  },
  "language_info": {
   "codemirror_mode": {
    "name": "ipython",
    "version": 2
   },
   "file_extension": ".py",
   "mimetype": "text/x-python",
   "name": "python",
   "nbconvert_exporter": "python",
   "pygments_lexer": "ipython2",
   "version": "2.7.6"
  },
  "pycharm": {
   "stem_cell": {
    "cell_type": "raw",
    "source": [],
    "metadata": {
     "collapsed": false
    }
   }
  }
 },
 "nbformat": 4,
 "nbformat_minor": 0
}