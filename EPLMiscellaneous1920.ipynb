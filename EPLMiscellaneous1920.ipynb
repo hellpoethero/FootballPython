{
 "cells": [
  {
   "cell_type": "code",
   "execution_count": 3,
   "metadata": {
    "collapsed": true,
    "pycharm": {
     "is_executing": false
    }
   },
   "outputs": [],
   "source": [
    "import pandas as pd\n",
    "\n",
    "miscel = pd.read_csv(\"fbref/EPLMiscellaneous1920.csv\",header=0)"
   ]
  },
  {
   "cell_type": "code",
   "execution_count": 8,
   "outputs": [
    {
     "name": "stdout",
     "text": [
      "              Squad  Fls  CrdY  CrdR       FpY         FpR\n",
      "0           Arsenal  367    75     5  4.893333   73.400000\n",
      "1       Aston Villa  391    64     1  6.109375  391.000000\n",
      "2       Bournemouth  327    73     3  4.479452  109.000000\n",
      "3          Brighton  344    54     2  6.370370  172.000000\n",
      "4           Burnley  371    62     0  5.983871         inf\n",
      "5           Chelsea  349    56     0  6.232143         inf\n",
      "6    Crystal Palace  368    53     1  6.943396  368.000000\n",
      "7           Everton  418    68     3  6.147059  139.333333\n",
      "8    Leicester City  372    39     1  9.538462  372.000000\n",
      "9         Liverpool  301    35     1  8.600000  301.000000\n",
      "10  Manchester City  330    62     4  5.322581   82.500000\n",
      "11   Manchester Utd  373    62     0  6.016129         inf\n",
      "12    Newcastle Utd  326    57     3  5.719298  108.666667\n",
      "13     Norwich City  332    64     1  5.187500  332.000000\n",
      "14    Sheffield Utd  365    58     2  6.293103  182.500000\n",
      "15      Southampton  409    49     4  8.346939  102.250000\n",
      "16        Tottenham  366    72     3  5.083333  122.000000\n",
      "17          Watford  421    72     3  5.847222  140.333333\n",
      "18         West Ham  342    61     1  5.606557  342.000000\n",
      "19           Wolves  362    56     2  6.464286  181.000000\n",
      "6.068791946308725\n",
      "180.85\n"
     ],
     "output_type": "stream"
    }
   ],
   "source": [
    "miscel[\"FpY\"] = miscel[\"Fls\"] / miscel[\"CrdY\"]\n",
    "miscel[\"FpR\"] = miscel[\"Fls\"] / miscel[\"CrdR\"]\n",
    "print(miscel[[\"Squad\",\"Fls\", \"CrdY\",\"CrdR\",\"FpY\",\"FpR\"]])\n",
    "print(miscel[\"Fls\"].sum() / miscel[\"CrdY\"].sum())\n",
    "print(miscel[\"Fls\"].sum() / miscel[\"CrdR\"].sum())"
   ],
   "metadata": {
    "collapsed": false,
    "pycharm": {
     "name": "#%%\n",
     "is_executing": false
    }
   }
  }
 ],
 "metadata": {
  "kernelspec": {
   "display_name": "Python 3",
   "language": "python",
   "name": "python3"
  },
  "language_info": {
   "codemirror_mode": {
    "name": "ipython",
    "version": 2
   },
   "file_extension": ".py",
   "mimetype": "text/x-python",
   "name": "python",
   "nbconvert_exporter": "python",
   "pygments_lexer": "ipython2",
   "version": "2.7.6"
  },
  "pycharm": {
   "stem_cell": {
    "cell_type": "raw",
    "source": [],
    "metadata": {
     "collapsed": false
    }
   }
  }
 },
 "nbformat": 4,
 "nbformat_minor": 0
}